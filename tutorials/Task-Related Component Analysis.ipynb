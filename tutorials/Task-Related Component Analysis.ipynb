{
  "nbformat": 4,
  "nbformat_minor": 0,
  "metadata": {
    "colab": {
      "name": "Task-Related Component Analysis",
      "provenance": [],
      "collapsed_sections": [],
      "toc_visible": true,
      "authorship_tag": "ABX9TyPsNjpk5OuxKGuMR6xuEGQH",
      "include_colab_link": true
    },
    "kernelspec": {
      "name": "python3",
      "display_name": "Python 3"
    },
    "language_info": {
      "name": "python"
    }
  },
  "cells": [
    {
      "cell_type": "markdown",
      "metadata": {
        "id": "view-in-github",
        "colab_type": "text"
      },
      "source": [
        "<a href=\"https://colab.research.google.com/github/jinglescode/python-signal-processing/blob/main/tutorials/Task-Related%20Component%20Analysis.ipynb\" target=\"_parent\"><img src=\"https://colab.research.google.com/assets/colab-badge.svg\" alt=\"Open In Colab\"/></a>"
      ]
    },
    {
      "cell_type": "markdown",
      "metadata": {
        "id": "9QR5KHrc-0eC"
      },
      "source": [
        "# Task-Related Component Analysis\n",
        "\n",
        "Task-related component analysis (TRCA) is a classifier, originally for steady-state visual evoked potentials (SSVEPs) detection.\n",
        "\n",
        "Taken from the [paper](http://ieeexplore.ieee.org/document/7904641/) abstract:\n",
        "> Task-related component analysis (TRCA), which can enhance reproducibility of SSVEPs across multiple trials, was employed to improve the signal-to-noise ratio (SNR) of SSVEP signals by removing background electroencephalographic (EEG) activities. An ensemble method was further developed to integrate TRCA filters corresponding to multiple stimulation frequencies."
      ]
    },
    {
      "cell_type": "code",
      "metadata": {
        "colab": {
          "base_uri": "https://localhost:8080/"
        },
        "id": "6jn9DFi6-0kr",
        "cellView": "form",
        "outputId": "3a1db3f0-5f74-4181-83b3-753b69a9eec6"
      },
      "source": [
        "#@title \n",
        "!git clone https://github.com/jinglescode/python-signal-processing.git\n",
        "%cd python-signal-processing\n",
        "!pip install -r requirements.txt --quiet"
      ],
      "execution_count": 1,
      "outputs": [
        {
          "output_type": "stream",
          "text": [
            "Cloning into 'python-signal-processing'...\n",
            "remote: Enumerating objects: 198, done.\u001b[K\n",
            "remote: Counting objects: 100% (198/198), done.\u001b[K\n",
            "remote: Compressing objects: 100% (139/139), done.\u001b[K\n",
            "remote: Total 198 (delta 111), reused 118 (delta 50), pack-reused 0\u001b[K\n",
            "Receiving objects: 100% (198/198), 22.08 MiB | 36.88 MiB/s, done.\n",
            "Resolving deltas: 100% (111/111), done.\n",
            "/content/python-signal-processing\n"
          ],
          "name": "stdout"
        }
      ]
    },
    {
      "cell_type": "code",
      "metadata": {
        "id": "f2h9lGUY-1n4"
      },
      "source": [
        "from splearn.cross_decomposition.trca import TRCA # https://github.com/jinglescode/python-signal-processing/blob/main/splearn/cross_decomposition/trca.py\n",
        "from splearn.data.sample_ssvep import SampleSSVEPData # https://github.com/jinglescode/python-signal-processing/blob/main/splearn/data/sample_ssvep.py\n",
        "from splearn.cross_validate.leave_one_out import leave_one_block_evaluation # https://github.com/jinglescode/python-signal-processing/blob/main/splearn/cross_validate.leave_one_out.py\n",
        "from splearn.cross_decomposition.cca import CCA # https://github.com/jinglescode/python-signal-processing/blob/main/splearn/cross_decomposition/cca.py\n",
        "\n",
        "import numpy as np\n",
        "from sklearn.metrics import accuracy_score"
      ],
      "execution_count": 2,
      "outputs": []
    },
    {
      "cell_type": "markdown",
      "metadata": {
        "id": "noE6FEDCIP_8"
      },
      "source": [
        "## Load data\n",
        "\n",
        "In this tutorial, we load a 40-target steady-state visual evoked potentials (SSVEP) dataset recorded from a single subject. It contains 6 blocks, each block consists of 40 trials, where each trial is a target. The electroencephalogram (EEG) signals has 9 channels and 1250 sampling points.\n",
        "\n",
        "Read more about this dataset: https://www.pnas.org/content/early/2015/10/14/1508080112.abstract."
      ]
    },
    {
      "cell_type": "code",
      "metadata": {
        "colab": {
          "base_uri": "https://localhost:8080/"
        },
        "id": "8UisorSY-1qk",
        "outputId": "f025c66f-3ecb-4cc1-ae92-a3c4c3719671"
      },
      "source": [
        "data = SampleSSVEPData()\n",
        "eeg = data.get_data()\n",
        "labels = data.get_targets()\n",
        "print(\"eeg.shape:\", eeg.shape)\n",
        "print(\"labels.shape:\", labels.shape)"
      ],
      "execution_count": 3,
      "outputs": [
        {
          "output_type": "stream",
          "text": [
            "eeg.shape: (6, 40, 9, 1250)\n",
            "labels.shape: (6, 40)\n"
          ],
          "name": "stdout"
        }
      ]
    },
    {
      "cell_type": "markdown",
      "metadata": {
        "id": "0XcPql_8H2d4"
      },
      "source": [
        "## Leave-One-Block-Out cross-validation\n",
        "\n",
        "We use the Leave-One-Block-Out cross-validation approach to determine TRCA's classification performance."
      ]
    },
    {
      "cell_type": "code",
      "metadata": {
        "colab": {
          "base_uri": "https://localhost:8080/"
        },
        "id": "OUOpOyBU_CcF",
        "outputId": "b9a299b4-d0ab-4045-af23-0025d54be6c3"
      },
      "source": [
        "trca_classifier = TRCA(sampling_rate=data.sampling_rate)\n",
        "test_accuracies = leave_one_block_evaluation(classifier=trca_classifier, X=eeg, Y=labels)"
      ],
      "execution_count": 4,
      "outputs": [
        {
          "output_type": "stream",
          "text": [
            "Block: 1 | Train acc: 100.00% | Test acc: 97.50%\n",
            "Block: 2 | Train acc: 100.00% | Test acc: 100.00%\n",
            "Block: 3 | Train acc: 100.00% | Test acc: 100.00%\n",
            "Block: 4 | Train acc: 100.00% | Test acc: 100.00%\n",
            "Block: 5 | Train acc: 100.00% | Test acc: 97.50%\n",
            "Block: 6 | Train acc: 100.00% | Test acc: 100.00%\n",
            "Mean test accuracy: 99.2%\n"
          ],
          "name": "stdout"
        }
      ]
    },
    {
      "cell_type": "markdown",
      "metadata": {
        "id": "3ccn3ee-4OZO"
      },
      "source": [
        "### Comparing to CCA\n",
        "Let's also test the classification performance with [CCA](https://colab.research.google.com/github/jinglescode/python-signal-processing/blob/main/tutorials/Canonical%20Correlation%20Analysis.ipynb) and compare the accuracy performance."
      ]
    },
    {
      "cell_type": "code",
      "metadata": {
        "id": "4DrOzs9H4HD-",
        "outputId": "a64c333e-f36b-4f5e-9ac4-6b65243803f7",
        "colab": {
          "base_uri": "https://localhost:8080/"
        }
      },
      "source": [
        "cca = CCA(\n",
        "    sampling_rate=data.sampling_rate, \n",
        "    target_frequencies=data.get_stimulus_frequencies(), \n",
        "    signal_size=eeg.shape[3], \n",
        "    num_harmonics=1\n",
        ")\n",
        "\n",
        "test_accuracies = leave_one_block_evaluation(classifier=cca, X=eeg, Y=labels)"
      ],
      "execution_count": 5,
      "outputs": [
        {
          "output_type": "stream",
          "text": [
            "Block: 1 | Train acc: 100.00% | Test acc: 100.00%\n",
            "Block: 2 | Train acc: 100.00% | Test acc: 100.00%\n",
            "Block: 3 | Train acc: 100.00% | Test acc: 100.00%\n",
            "Block: 4 | Train acc: 100.00% | Test acc: 100.00%\n",
            "Block: 5 | Train acc: 100.00% | Test acc: 100.00%\n",
            "Block: 6 | Train acc: 100.00% | Test acc: 100.00%\n",
            "Mean test accuracy: 100.0%\n"
          ],
          "name": "stdout"
        }
      ]
    },
    {
      "cell_type": "markdown",
      "metadata": {
        "id": "6VF6_inPQIYH"
      },
      "source": [
        "Comparing the `mean test accuracy`, we can't see the difference in the classification performance between TRCA and CCA. We will use another dataset below."
      ]
    },
    {
      "cell_type": "markdown",
      "metadata": {
        "id": "ggjguM6YDOke"
      },
      "source": [
        "## Using `.fit` and `.predict`\n",
        "\n",
        "In this example, we select the first 2 blocks for training and the remaining 4 blocks for testing. "
      ]
    },
    {
      "cell_type": "code",
      "metadata": {
        "colab": {
          "base_uri": "https://localhost:8080/"
        },
        "id": "MsLQSLggDOrY",
        "outputId": "be4f5c33-048d-4dd7-a8ce-cccc25ffed64"
      },
      "source": [
        "trca_classifier = TRCA(sampling_rate=data.sampling_rate)\n",
        "\n",
        "x_train = eeg[0:2]\n",
        "y_train = labels[0:2]\n",
        "\n",
        "blocks, targets, channels, samples = x_train.shape\n",
        "x_train = x_train.reshape((blocks-1*targets, channels, samples))\n",
        "y_train = y_train.reshape((blocks-1*targets))\n",
        "\n",
        "print(\"Train shape:\", x_train.shape, y_train.shape)\n",
        "trca_classifier.fit(x_train, y_train)\n",
        "\n",
        "for block_i in range(2, 6):\n",
        "\n",
        "    test_x = eeg[block_i]\n",
        "    test_y = labels[block_i]\n",
        "\n",
        "    # Shuffle the test set\n",
        "    arrangement = np.arange(40)\n",
        "    np.random.shuffle(arrangement)\n",
        "    test_x = test_x[arrangement, :,:]\n",
        "    test_y = test_y[arrangement]\n",
        "\n",
        "    # Preduct\n",
        "    pred = trca_classifier.predict(test_x)\n",
        "    acc = accuracy_score(test_y, pred)\n",
        "\n",
        "    print(f'Block: {block_i+1} | accuracy: {acc*100:.2f}%')"
      ],
      "execution_count": 6,
      "outputs": [
        {
          "output_type": "stream",
          "text": [
            "Train shape: (80, 9, 1250) (80,)\n",
            "Block: 3 | accuracy: 100.00%\n",
            "Block: 4 | accuracy: 100.00%\n",
            "Block: 5 | accuracy: 97.50%\n",
            "Block: 6 | accuracy: 100.00%\n"
          ],
          "name": "stdout"
        }
      ]
    },
    {
      "cell_type": "markdown",
      "metadata": {
        "id": "x_ItEaQy3ewU"
      },
      "source": [
        "## Another dataset, HS-SSVEP\n",
        "\n",
        "As we can't see the difference in classification performance with the previous data, in this example we will evaluate with a single subject data taken from the [Tsinghua SSVEP benchmark dataset](https://ieeexplore.ieee.org/document/7740878).\n",
        "\n",
        "In the following code blocks, we will download and prepare the data and labels."
      ]
    },
    {
      "cell_type": "code",
      "metadata": {
        "id": "9z1jdUGw3e4g",
        "outputId": "52a0c191-c343-43fd-a8ad-a9b84d6a4892",
        "colab": {
          "base_uri": "https://localhost:8080/"
        }
      },
      "source": [
        "!wget -r --no-parent ftp://anonymous@sccn.ucsd.edu/pub/ssvep_benchmark_dataset/S33.mat"
      ],
      "execution_count": 7,
      "outputs": [
        {
          "output_type": "stream",
          "text": [
            "--2021-08-18 13:12:13--  ftp://anonymous@sccn.ucsd.edu/pub/ssvep_benchmark_dataset/S33.mat\n",
            "           => ‘sccn.ucsd.edu/pub/ssvep_benchmark_dataset/.listing’\n",
            "Resolving sccn.ucsd.edu (sccn.ucsd.edu)... 169.228.38.2\n",
            "Connecting to sccn.ucsd.edu (sccn.ucsd.edu)|169.228.38.2|:21... connected.\n",
            "Logging in as anonymous ... Logged in!\n",
            "==> SYST ... done.    ==> PWD ... done.\n",
            "==> TYPE I ... done.  ==> CWD (1) /pub/ssvep_benchmark_dataset ... done.\n",
            "==> PASV ... done.    ==> LIST ... done.\n",
            "\n",
            "sccn.ucsd.edu/pub/s     [ <=>                ]   2.78K  --.-KB/s    in 0s      \n",
            "\n",
            "2021-08-18 13:12:14 (261 MB/s) - ‘sccn.ucsd.edu/pub/ssvep_benchmark_dataset/.listing’ saved [2850]\n",
            "\n",
            "Removed ‘sccn.ucsd.edu/pub/ssvep_benchmark_dataset/.listing’.\n",
            "--2021-08-18 13:12:14--  ftp://anonymous@sccn.ucsd.edu/pub/ssvep_benchmark_dataset/S33.mat\n",
            "           => ‘sccn.ucsd.edu/pub/ssvep_benchmark_dataset/S33.mat’\n",
            "==> CWD not required.\n",
            "==> PASV ... done.    ==> RETR S33.mat ... done.\n",
            "Length: 106223727 (101M)\n",
            "\n",
            "sccn.ucsd.edu/pub/s 100%[===================>] 101.30M  34.5MB/s    in 2.9s    \n",
            "\n",
            "2021-08-18 13:12:17 (34.5 MB/s) - ‘sccn.ucsd.edu/pub/ssvep_benchmark_dataset/S33.mat’ saved [106223727]\n",
            "\n",
            "FINISHED --2021-08-18 13:12:17--\n",
            "Total wall clock time: 4.1s\n",
            "Downloaded: 1 files, 101M in 2.9s (34.5 MB/s)\n"
          ],
          "name": "stdout"
        }
      ]
    },
    {
      "cell_type": "code",
      "metadata": {
        "id": "tkUyEd_l3lV6",
        "outputId": "a2c1ccaa-358c-46d3-fffe-7d5c1cb0a011",
        "colab": {
          "base_uri": "https://localhost:8080/"
        }
      },
      "source": [
        "from scipy.io import loadmat\n",
        "\n",
        "# select channels\n",
        "ch_names = ['FP1','FPZ','FP2','AF3','AF4','F7','F5','F3','F1','FZ','F2','F4','F6','F8','FT7','FC5','FC3','FC1','FCz','FC2','FC4','FC6','FT8','T7','C5','C3','C1','Cz','C2','C4','C6','T8','M1','TP7','CP5','CP3','CP1','CPZ','CP2','CP4','CP6','TP8','M2','P7','P5','P3','P1','PZ','P2','P4','P6','P8','PO7','PO5','PO3','POz','PO4','PO6','PO8','CB1','O1','Oz','O2','CB2']\n",
        "ch_index = [47,53,54,55,56,57,60,61,62]\n",
        "\n",
        "sampling_rate = 250\n",
        "\n",
        "folder = 'sccn.ucsd.edu/pub/ssvep_benchmark_dataset'\n",
        "data = loadmat(f\"{folder}/S33.mat\")\n",
        "eeg = data['data']\n",
        "eeg = eeg.transpose((3, 2, 0, 1))\n",
        "eeg = eeg[:,  :, ch_index, 250:500]\n",
        "print(\"Data shape:\", eeg.shape)\n",
        "\n",
        "blocks, targets, channels, samples = eeg.shape\n",
        "y_train = np.tile(np.arange(0, targets), (1, blocks-1)).squeeze()\n",
        "y_test = np.arange(0, targets)\n",
        "print(\"Label shape:\", y_train.shape, y_test.shape)"
      ],
      "execution_count": 8,
      "outputs": [
        {
          "output_type": "stream",
          "text": [
            "Data shape: (6, 40, 9, 250)\n",
            "Label shape: (200,) (40,)\n"
          ],
          "name": "stdout"
        }
      ]
    },
    {
      "cell_type": "markdown",
      "metadata": {
        "id": "JPTZLMIGTU_E"
      },
      "source": [
        "## Classification with TRCA"
      ]
    },
    {
      "cell_type": "code",
      "metadata": {
        "id": "hchO2WOS7DDh",
        "outputId": "98d7404f-db78-45b6-c83d-ae81f50c9bdc",
        "colab": {
          "base_uri": "https://localhost:8080/"
        }
      },
      "source": [
        "trca_classifier = TRCA(sampling_rate=sampling_rate)\n",
        "test_accuracies = leave_one_block_evaluation(classifier=trca_classifier, X=eeg, Y=labels)"
      ],
      "execution_count": 9,
      "outputs": [
        {
          "output_type": "stream",
          "text": [
            "Block: 1 | Train acc: 100.00% | Test acc: 70.00%\n",
            "Block: 2 | Train acc: 100.00% | Test acc: 47.50%\n",
            "Block: 3 | Train acc: 100.00% | Test acc: 67.50%\n",
            "Block: 4 | Train acc: 100.00% | Test acc: 47.50%\n",
            "Block: 5 | Train acc: 100.00% | Test acc: 70.00%\n",
            "Block: 6 | Train acc: 100.00% | Test acc: 62.50%\n",
            "Mean test accuracy: 60.8%\n"
          ],
          "name": "stdout"
        }
      ]
    },
    {
      "cell_type": "markdown",
      "metadata": {
        "id": "WhHEECitTaMM"
      },
      "source": [
        "### Comparing to CCA"
      ]
    },
    {
      "cell_type": "code",
      "metadata": {
        "id": "PBJCxXaz6jpa",
        "outputId": "c5d097a1-5a26-47a6-fad7-3d2da7943cca",
        "colab": {
          "base_uri": "https://localhost:8080/"
        }
      },
      "source": [
        "stimulus_frequencies = np.array([8.0,9.0,10.0,11.0,12.0,13.0,14.0,15.0,8.2,9.2,10.2,11.2,12.2,13.2,14.2,15.2,8.4,9.4,10.4,11.4,12.4,13.4,14.4,15.4,8.6,9.6,10.6,11.6,12.6,13.6,14.6,15.6,8.8,9.8,10.8,11.8,12.8,13.8,14.8,15.8])\n",
        "\n",
        "cca = CCA(\n",
        "    sampling_rate=sampling_rate, \n",
        "    target_frequencies=stimulus_frequencies,\n",
        "    signal_size=eeg.shape[3], \n",
        "    num_harmonics=2\n",
        ")\n",
        "\n",
        "test_accuracies = leave_one_block_evaluation(classifier=cca, X=eeg, Y=labels)"
      ],
      "execution_count": 10,
      "outputs": [
        {
          "output_type": "stream",
          "text": [
            "Block: 1 | Train acc: 20.50% | Test acc: 35.00%\n",
            "Block: 2 | Train acc: 26.00% | Test acc: 7.50%\n",
            "Block: 3 | Train acc: 22.00% | Test acc: 27.50%\n",
            "Block: 4 | Train acc: 23.50% | Test acc: 20.00%\n",
            "Block: 5 | Train acc: 23.50% | Test acc: 20.00%\n",
            "Block: 6 | Train acc: 22.00% | Test acc: 27.50%\n",
            "Mean test accuracy: 22.900000000000002%\n"
          ],
          "name": "stdout"
        }
      ]
    }
  ]
}