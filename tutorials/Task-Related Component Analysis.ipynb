{
  "cells": [
    {
      "cell_type": "markdown",
      "metadata": {
        "colab_type": "text",
        "id": "view-in-github"
      },
      "source": [
        "<a href=\"https://colab.research.google.com/github/jinglescode/python-signal-processing/blob/main/tutorials/Task-Related%20Component%20Analysis.ipynb\" target=\"_parent\"><img src=\"https://colab.research.google.com/assets/colab-badge.svg\" alt=\"Open In Colab\"/></a>"
      ]
    },
    {
      "cell_type": "markdown",
      "metadata": {
        "id": "9QR5KHrc-0eC"
      },
      "source": [
        "# Task-Related Component Analysis\n",
        "\n",
        "Task-related component analysis (TRCA) is a classifier, originally for steady-state visual evoked potentials (SSVEPs) detection.\n",
        "\n",
        "Taken from the [paper](http://ieeexplore.ieee.org/document/7904641/) abstract:\n",
        "> Task-related component analysis (TRCA), which can enhance reproducibility of SSVEPs across multiple trials, was employed to improve the signal-to-noise ratio (SNR) of SSVEP signals by removing background electroencephalographic (EEG) activities. An ensemble method was further developed to integrate TRCA filters corresponding to multiple stimulation frequencies."
      ]
    },
    {
      "cell_type": "code",
      "execution_count": 1,
      "metadata": {
        "id": "f2h9lGUY-1n4"
      },
      "outputs": [],
      "source": [
        "import sys\n",
        "sys.path.append(\"..\")\n",
        "\n",
        "from splearn.cross_decomposition.trca import TRCA # https://github.com/jinglescode/python-signal-processing/blob/main/splearn/cross_decomposition/trca.py\n",
        "from splearn.data.sample_ssvep import SampleSSVEPData # https://github.com/jinglescode/python-signal-processing/blob/main/splearn/data/sample_ssvep.py\n",
        "from splearn.cross_validate.leave_one_out import leave_one_block_evaluation # https://github.com/jinglescode/python-signal-processing/blob/main/splearn/cross_validate.leave_one_out.py\n",
        "from splearn.cross_decomposition.cca import CCA # https://github.com/jinglescode/python-signal-processing/blob/main/splearn/cross_decomposition/cca.py\n",
        "from splearn.data import SampleSSVEPData\n",
        "\n",
        "import numpy as np\n",
        "from sklearn.metrics import accuracy_score"
      ]
    },
    {
      "cell_type": "markdown",
      "metadata": {
        "id": "noE6FEDCIP_8"
      },
      "source": [
        "## Load data\n",
        "\n",
        "In this tutorial, we load a 40-target steady-state visual evoked potentials (SSVEP) dataset recorded from a single subject. It contains 6 blocks, each block consists of 40 trials, where each trial is a target. The electroencephalogram (EEG) signals has 9 channels and 1250 sampling points.\n",
        "\n",
        "Read more about this dataset: https://www.pnas.org/content/early/2015/10/14/1508080112.abstract."
      ]
    },
    {
      "cell_type": "code",
      "execution_count": 2,
      "metadata": {
        "colab": {
          "base_uri": "https://localhost:8080/"
        },
        "id": "8UisorSY-1qk",
        "outputId": "e9304e3e-ea3e-4812-af77-b26a77ecf131"
      },
      "outputs": [
        {
          "name": "stdout",
          "output_type": "stream",
          "text": [
            "eeg.shape: (6, 40, 9, 1250)\n",
            "labels.shape: (6, 40)\n"
          ]
        }
      ],
      "source": [
        "data = SampleSSVEPData()\n",
        "eeg = data.get_data()\n",
        "labels = data.get_targets()\n",
        "print(\"eeg.shape:\", eeg.shape)\n",
        "print(\"labels.shape:\", labels.shape)"
      ]
    },
    {
      "cell_type": "markdown",
      "metadata": {
        "id": "0XcPql_8H2d4"
      },
      "source": [
        "## Leave-One-Block-Out cross-validation\n",
        "\n",
        "We use the Leave-One-Block-Out cross-validation approach to determine TRCA's classification performance."
      ]
    },
    {
      "cell_type": "code",
      "execution_count": 3,
      "metadata": {
        "colab": {
          "base_uri": "https://localhost:8080/"
        },
        "id": "OUOpOyBU_CcF",
        "outputId": "986f67d0-0a86-4c9c-9a72-88314c542152"
      },
      "outputs": [
        {
          "name": "stdout",
          "output_type": "stream",
          "text": [
            "Block:1 | Test acc: 97.50%\n",
            "Block:2 | Test acc: 100.00%\n",
            "Block:3 | Test acc: 100.00%\n",
            "Block:4 | Test acc: 100.00%\n",
            "Block:5 | Test acc: 97.50%\n",
            "Block:6 | Test acc: 100.00%\n",
            "Mean test accuracy: 99.2%\n"
          ]
        }
      ],
      "source": [
        "trca_classifier = TRCA(sampling_rate=data.sampling_rate)\n",
        "test_accuracies = leave_one_block_evaluation(classifier=trca_classifier, X=eeg, Y=labels)"
      ]
    },
    {
      "cell_type": "markdown",
      "metadata": {
        "id": "3ccn3ee-4OZO"
      },
      "source": [
        "### Comparing to CCA\n",
        "Let's also test the classification performance with [CCA](https://colab.research.google.com/github/jinglescode/python-signal-processing/blob/main/tutorials/Canonical%20Correlation%20Analysis.ipynb) and compare the accuracy performance."
      ]
    },
    {
      "cell_type": "code",
      "execution_count": 4,
      "metadata": {
        "colab": {
          "base_uri": "https://localhost:8080/"
        },
        "id": "4DrOzs9H4HD-",
        "outputId": "2e00d867-2752-446b-a01d-5c14a9aa7685"
      },
      "outputs": [
        {
          "name": "stdout",
          "output_type": "stream",
          "text": [
            "Block:1 | Test acc: 100.00%\n",
            "Block:2 | Test acc: 100.00%\n",
            "Block:3 | Test acc: 100.00%\n",
            "Block:4 | Test acc: 100.00%\n",
            "Block:5 | Test acc: 100.00%\n",
            "Block:6 | Test acc: 100.00%\n",
            "Mean test accuracy: 100.0%\n"
          ]
        }
      ],
      "source": [
        "cca = CCA(\n",
        "    sampling_rate=data.sampling_rate, \n",
        "    target_frequencies=data.get_stimulus_frequencies(), \n",
        "    signal_size=eeg.shape[3], \n",
        "    num_harmonics=1\n",
        ")\n",
        "\n",
        "test_accuracies = leave_one_block_evaluation(classifier=cca, X=eeg, Y=labels)"
      ]
    },
    {
      "cell_type": "markdown",
      "metadata": {
        "id": "6VF6_inPQIYH"
      },
      "source": [
        "Comparing the `mean test accuracy`, we can't see the difference in the classification performance between TRCA and CCA. We will use another dataset below."
      ]
    },
    {
      "cell_type": "markdown",
      "metadata": {
        "id": "ggjguM6YDOke"
      },
      "source": [
        "## Using `.fit` and `.predict`\n",
        "\n",
        "In this example, we select the first 2 blocks for training and the remaining 4 blocks for testing. "
      ]
    },
    {
      "cell_type": "code",
      "execution_count": 5,
      "metadata": {
        "colab": {
          "base_uri": "https://localhost:8080/"
        },
        "id": "MsLQSLggDOrY",
        "outputId": "948fad54-0aaa-458d-cbdc-5949efd39cf6"
      },
      "outputs": [
        {
          "name": "stdout",
          "output_type": "stream",
          "text": [
            "Train shape: (80, 9, 1250) (80,)\n",
            "Block: 3 | accuracy: 97.50%\n",
            "Block: 4 | accuracy: 100.00%\n",
            "Block: 5 | accuracy: 97.50%\n",
            "Block: 6 | accuracy: 100.00%\n"
          ]
        }
      ],
      "source": [
        "trca_classifier = TRCA(sampling_rate=data.sampling_rate)\n",
        "\n",
        "x_train = eeg[0:2]\n",
        "y_train = labels[0:2]\n",
        "\n",
        "blocks, targets, channels, samples = x_train.shape\n",
        "x_train = x_train.reshape((blocks-1*targets, channels, samples))\n",
        "y_train = y_train.reshape((blocks-1*targets))\n",
        "\n",
        "print(\"Train shape:\", x_train.shape, y_train.shape)\n",
        "trca_classifier.fit(x_train, y_train)\n",
        "\n",
        "for block_i in range(2, 6):\n",
        "\n",
        "    test_x = eeg[block_i]\n",
        "    test_y = labels[block_i]\n",
        "\n",
        "    # Shuffle the test set\n",
        "    arrangement = np.arange(40)\n",
        "    np.random.shuffle(arrangement)\n",
        "    test_x = test_x[arrangement, :,:]\n",
        "    test_y = test_y[arrangement]\n",
        "\n",
        "    # Preduct\n",
        "    pred = trca_classifier.predict(test_x)\n",
        "    acc = accuracy_score(test_y, pred)\n",
        "\n",
        "    print(f'Block: {block_i+1} | accuracy: {acc*100:.2f}%')"
      ]
    },
    {
      "cell_type": "markdown",
      "metadata": {
        "id": "x_ItEaQy3ewU"
      },
      "source": [
        "## Another dataset, HS-SSVEP\n",
        "\n",
        "As we can't see the difference in classification performance with the previous data, in this example we will evaluate with a single subject data taken from the [Tsinghua SSVEP benchmark dataset](https://ieeexplore.ieee.org/document/7740878).\n",
        "\n",
        "In the following code blocks, we will download and prepare the data and labels."
      ]
    },
    {
      "cell_type": "code",
      "execution_count": 6,
      "metadata": {
        "colab": {
          "base_uri": "https://localhost:8080/"
        },
        "id": "zyjqvvqSvLC4",
        "outputId": "32f821bc-eef0-4e11-cd3b-67919dc73acc"
      },
      "outputs": [
        {
          "name": "stdout",
          "output_type": "stream",
          "text": [
            "Data shape: (6, 40, 9, 250)\n",
            "Label shape: (200,) (40,)\n"
          ]
        }
      ],
      "source": [
        "data = SampleSSVEPData()\n",
        "data.data.shape\n",
        "\n",
        "eeg = data.data\n",
        "eeg = eeg[:,  :, :, 250:500]\n",
        "print(\"Data shape:\", eeg.shape)\n",
        "\n",
        "blocks, targets, channels, samples = eeg.shape\n",
        "y_train = np.tile(np.arange(0, targets), (1, blocks-1)).squeeze()\n",
        "y_test = np.arange(0, targets)\n",
        "print(\"Label shape:\", y_train.shape, y_test.shape)"
      ]
    },
    {
      "cell_type": "markdown",
      "metadata": {
        "id": "JPTZLMIGTU_E"
      },
      "source": [
        "## Classification with TRCA"
      ]
    },
    {
      "cell_type": "code",
      "execution_count": 7,
      "metadata": {
        "colab": {
          "base_uri": "https://localhost:8080/"
        },
        "id": "hchO2WOS7DDh",
        "outputId": "f6cbb334-0a3d-41c6-c3dd-b8b88e4de707"
      },
      "outputs": [
        {
          "name": "stdout",
          "output_type": "stream",
          "text": [
            "Block:1 | Test acc: 97.50%\n",
            "Block:2 | Test acc: 100.00%\n",
            "Block:3 | Test acc: 97.50%\n",
            "Block:4 | Test acc: 100.00%\n",
            "Block:5 | Test acc: 97.50%\n",
            "Block:6 | Test acc: 100.00%\n",
            "Mean test accuracy: 98.7%\n"
          ]
        }
      ],
      "source": [
        "trca_classifier = TRCA(sampling_rate=data.sampling_rate)\n",
        "test_accuracies = leave_one_block_evaluation(classifier=trca_classifier, X=eeg, Y=labels)"
      ]
    },
    {
      "cell_type": "markdown",
      "metadata": {
        "id": "WhHEECitTaMM"
      },
      "source": [
        "### Comparing to CCA"
      ]
    },
    {
      "cell_type": "code",
      "execution_count": 8,
      "metadata": {
        "colab": {
          "base_uri": "https://localhost:8080/"
        },
        "id": "PBJCxXaz6jpa",
        "outputId": "4e8bde1b-2b3a-4366-8b64-dfc178c64ef6"
      },
      "outputs": [
        {
          "name": "stdout",
          "output_type": "stream",
          "text": [
            "Block:1 | Test acc: 72.50%\n",
            "Block:2 | Test acc: 75.00%\n",
            "Block:3 | Test acc: 62.50%\n",
            "Block:4 | Test acc: 60.00%\n",
            "Block:5 | Test acc: 70.00%\n",
            "Block:6 | Test acc: 82.50%\n",
            "Mean test accuracy: 70.39999999999999%\n"
          ]
        }
      ],
      "source": [
        "stimulus_frequencies = np.array([8.0,9.0,10.0,11.0,12.0,13.0,14.0,15.0,8.2,9.2,10.2,11.2,12.2,13.2,14.2,15.2,8.4,9.4,10.4,11.4,12.4,13.4,14.4,15.4,8.6,9.6,10.6,11.6,12.6,13.6,14.6,15.6,8.8,9.8,10.8,11.8,12.8,13.8,14.8,15.8])\n",
        "\n",
        "cca = CCA(\n",
        "    sampling_rate=data.sampling_rate, \n",
        "    target_frequencies=stimulus_frequencies,\n",
        "    signal_size=eeg.shape[3], \n",
        "    num_harmonics=2\n",
        ")\n",
        "\n",
        "test_accuracies = leave_one_block_evaluation(classifier=cca, X=eeg, Y=labels)"
      ]
    }
  ],
  "metadata": {
    "colab": {
      "collapsed_sections": [],
      "include_colab_link": true,
      "name": "Task-Related Component Analysis",
      "provenance": []
    },
    "kernelspec": {
      "display_name": "Python 3",
      "language": "python",
      "name": "python3"
    },
    "language_info": {
      "codemirror_mode": {
        "name": "ipython",
        "version": 3
      },
      "file_extension": ".py",
      "mimetype": "text/x-python",
      "name": "python",
      "nbconvert_exporter": "python",
      "pygments_lexer": "ipython3",
      "version": "3.10.14"
    }
  },
  "nbformat": 4,
  "nbformat_minor": 0
}
